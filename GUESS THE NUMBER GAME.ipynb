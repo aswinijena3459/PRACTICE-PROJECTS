{
 "cells": [
  {
   "cell_type": "code",
   "execution_count": 3,
   "metadata": {},
   "outputs": [
    {
     "name": "stdout",
     "output_type": "stream",
     "text": [
      "i have a number in my mind between 1 to 20\n",
      "take a guess\n",
      "6\n",
      "your guess is too high\n",
      "take a guess\n",
      "3\n",
      "good job! you have guessed the correct number in 2 guesses\n"
     ]
    }
   ],
   "source": [
    "import random\n",
    "secretnumber=random.randint(1,20)\n",
    "print(\"i have a number in my mind between 1 to 20\")\n",
    "for guessestaken in range(1,7):\n",
    "    print(\"take a guess\")\n",
    "    guess=int(input())\n",
    "    if guess > secretnumber:\n",
    "        print(\"your guess is too high\")\n",
    "    elif guess < secretnumber:\n",
    "        print(\"your guess is too low\")\n",
    "    else:\n",
    "        break\n",
    "if guess==secretnumber:\n",
    "    print(\"good job! you have guessed the correct number in \"+str(guessestaken)+\" guesses\")\n",
    "else :\n",
    "    print(\"nope the number i was thinking is\"+str(secretnumber))"
   ]
  },
  {
   "cell_type": "markdown",
   "metadata": {},
   "source": []
  }
 ],
 "metadata": {
  "kernelspec": {
   "display_name": "Python 3",
   "language": "python",
   "name": "python3"
  },
  "language_info": {
   "codemirror_mode": {
    "name": "ipython",
    "version": 3
   },
   "file_extension": ".py",
   "mimetype": "text/x-python",
   "name": "python",
   "nbconvert_exporter": "python",
   "pygments_lexer": "ipython3",
   "version": "3.7.6"
  }
 },
 "nbformat": 4,
 "nbformat_minor": 4
}
